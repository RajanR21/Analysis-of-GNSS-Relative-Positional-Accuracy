{
 "cells": [
  {
   "cell_type": "code",
   "execution_count": null,
   "id": "db7eaf04",
   "metadata": {},
   "outputs": [
    {
     "name": "stdout",
     "output_type": "stream",
     "text": [
      " Starting Scanner Data Processing (logging to scanner_log.csv) \n",
      " Data saved to scanner_log.csv\n"
     ]
    }
   ],
   "source": [
    "import struct\n",
    "import time\n",
    "import csv\n",
    "from scapy.all import *\n",
    "from datetime import datetime\n",
    "\n",
    "# Data Reading from pcap file\n",
    "try:\n",
    "    packets = rdpcap('scanner_valid_testdata.pcap')\n",
    "except FileNotFoundError:\n",
    "    print(\"Error: File not found.\")\n",
    "    exit()\n",
    "\n",
    "# Setup CSV Logging\n",
    "csv_file = open('scanner_log_output.csv', 'w', newline='')\n",
    "csv_writer = csv.writer(csv_file)\n",
    "csv_writer.writerow(['Timestamp', 'Motor Speed (RPM)', 'Return Mode'])\n",
    "\n",
    "# A map to make the return mode human-readable\n",
    "return_mode_map = {\n",
    "    0x39: \"Dual Return (Last, Strongest)\",\n",
    "    0x37: \"Single Return (Strongest)\",\n",
    "}\n",
    "\n",
    "\n",
    "print(\" Starting Scanner Data Processing (logging to scanner_log.csv) \" )\n",
    "\n",
    "for packet in packets:\n",
    "    if packet.haslayer(Raw):\n",
    "        udp_payload = packet[Raw].load\n",
    "        if len(udp_payload) == 820:\n",
    "            # Parsing the Motor Speed\n",
    "            motor_speed = struct.unpack('<H', udp_payload[803:805])[0]\n",
    "\n",
    "            # Parsing the Return Mode\n",
    "            return_mode_code = udp_payload[802]\n",
    "            return_mode_text = return_mode_map.get(return_mode_code, f\"Unknown ({hex(return_mode_code)})\")\n",
    "            \n",
    "            # Parsing the Timestamp\n",
    "            date_parts = struct.unpack('<6B', udp_payload[805:811])\n",
    "            timestamp_us = struct.unpack('<I', udp_payload[811:815])[0]\n",
    "            timestamp = datetime(\n",
    "                year=date_parts[0] + 1900, month=date_parts[1], day=date_parts[2],\n",
    "                hour=date_parts[3], minute=date_parts[4], second=date_parts[5],\n",
    "                microsecond=timestamp_us\n",
    "            )\n",
    "\n",
    "            # Write the data to the CSV file\n",
    "            csv_writer.writerow([timestamp, motor_speed, return_mode_text])\n",
    "\n",
    "# --- Cleanup ---\n",
    "csv_file.close()\n",
    "print(\" Data saved to scanner_log.csv\")\n",
    "\n"
   ]
  }
 ],
 "metadata": {
  "kernelspec": {
   "display_name": "python_ml",
   "language": "python",
   "name": "python3"
  },
  "language_info": {
   "codemirror_mode": {
    "name": "ipython",
    "version": 3
   },
   "file_extension": ".py",
   "mimetype": "text/x-python",
   "name": "python",
   "nbconvert_exporter": "python",
   "pygments_lexer": "ipython3",
   "version": "3.10.18"
  }
 },
 "nbformat": 4,
 "nbformat_minor": 5
}
